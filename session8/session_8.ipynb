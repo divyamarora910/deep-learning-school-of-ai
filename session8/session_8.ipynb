{
  "cells": [
    {
      "cell_type": "code",
      "execution_count": 1,
      "metadata": {
        "id": "xO2ArOzFLgF6"
      },
      "outputs": [],
      "source": [
        "from __future__ import print_function\n",
        "import numpy as np\n",
        "import pandas as pd\n",
        "import torch\n",
        "import torch.nn as nn\n",
        "import torch.nn.functional as F\n",
        "import torch.optim as optim\n",
        "from torchvision import datasets, transforms\n",
        "import os\n",
        "os.environ['KMP_DUPLICATE_LIB_OK']='True'"
      ]
    },
    {
      "cell_type": "code",
      "source": [
        "!pip install torchsummary\n",
        "from torchsummary import summary"
      ],
      "metadata": {
        "colab": {
          "base_uri": "https://localhost:8080/"
        },
        "id": "eWupKDB_iHLH",
        "outputId": "7c640675-ee18-47c3-c8ef-02856aee560b"
      },
      "execution_count": 2,
      "outputs": [
        {
          "output_type": "stream",
          "name": "stdout",
          "text": [
            "Requirement already satisfied: torchsummary in /usr/local/lib/python3.10/dist-packages (1.5.1)\n"
          ]
        }
      ]
    },
    {
      "cell_type": "code",
      "execution_count": 3,
      "metadata": {
        "colab": {
          "base_uri": "https://localhost:8080/"
        },
        "id": "NTvJ-gT5MIkY",
        "outputId": "510cef4b-6c9c-43ae-86a4-3d1e722cd3c4"
      },
      "outputs": [
        {
          "output_type": "stream",
          "name": "stdout",
          "text": [
            "Files already downloaded and verified\n",
            "Files already downloaded and verified\n"
          ]
        }
      ],
      "source": [
        "train = datasets.CIFAR10(root='./data', train=True,\n",
        "                                        download=True, \\\n",
        "                         )\n",
        "test = datasets.CIFAR10(root='./data', train=False,\n",
        "                                       download=True, \\\n",
        "                        )"
      ]
    },
    {
      "cell_type": "code",
      "execution_count": 4,
      "metadata": {
        "id": "WfBbTyxnMhvB"
      },
      "outputs": [],
      "source": [
        "max_pixel_value = train.data.max()\n",
        "max_pixel_value\n",
        "data = train.data/max_pixel_value"
      ]
    },
    {
      "cell_type": "code",
      "source": [
        "data.shape"
      ],
      "metadata": {
        "colab": {
          "base_uri": "https://localhost:8080/"
        },
        "id": "ZtQx56whgBhB",
        "outputId": "b4a8e8da-7d5a-408c-dc29-900f4eb794a3"
      },
      "execution_count": 5,
      "outputs": [
        {
          "output_type": "execute_result",
          "data": {
            "text/plain": [
              "(50000, 32, 32, 3)"
            ]
          },
          "metadata": {},
          "execution_count": 5
        }
      ]
    },
    {
      "cell_type": "code",
      "source": [
        "data[:,:,:,0].mean(),data[:,:,:,0].std()"
      ],
      "metadata": {
        "colab": {
          "base_uri": "https://localhost:8080/"
        },
        "id": "NH4W6EaC8x9f",
        "outputId": "0aaac136-740e-4a67-a1f5-1d57e0bb8ac6"
      },
      "execution_count": 6,
      "outputs": [
        {
          "output_type": "execute_result",
          "data": {
            "text/plain": [
              "(0.49139967861519745, 0.2470322324632823)"
            ]
          },
          "metadata": {},
          "execution_count": 6
        }
      ]
    },
    {
      "cell_type": "code",
      "source": [
        "data[:,:,:,1].mean(),data[:,:,:,1].std()"
      ],
      "metadata": {
        "colab": {
          "base_uri": "https://localhost:8080/"
        },
        "id": "ztndDmkW80GT",
        "outputId": "95fdc718-d3d4-4cce-f9b8-17462ac63428"
      },
      "execution_count": 7,
      "outputs": [
        {
          "output_type": "execute_result",
          "data": {
            "text/plain": [
              "(0.4821584083946076, 0.24348512800005553)"
            ]
          },
          "metadata": {},
          "execution_count": 7
        }
      ]
    },
    {
      "cell_type": "code",
      "source": [
        "data[:,:,:,2].mean(),data[:,:,:,2].std()"
      ],
      "metadata": {
        "colab": {
          "base_uri": "https://localhost:8080/"
        },
        "id": "HWxUWxu182Gx",
        "outputId": "cdc47c91-f67b-482f-d1ff-7e12ff89b4b6"
      },
      "execution_count": 8,
      "outputs": [
        {
          "output_type": "execute_result",
          "data": {
            "text/plain": [
              "(0.44653091444546616, 0.2615878417279641)"
            ]
          },
          "metadata": {},
          "execution_count": 8
        }
      ]
    },
    {
      "cell_type": "code",
      "execution_count": 9,
      "metadata": {
        "id": "D60CUJEYOcLc"
      },
      "outputs": [],
      "source": [
        "# Train Phase transformations\n",
        "train_transforms = transforms.Compose([\n",
        "\n",
        "                                       transforms.ToTensor(),\n",
        "                                       transforms.Normalize((0.4914, 0.4822, 0.4465), (0.2023, 0.1994, 0.2010)) # The mean and std have to be sequences (e.g., tuples), therefore you should add a comma after the values.\n",
        "                                       # Note the difference between (0.1307) and (0.1307,)\n",
        "                                       ])\n",
        "\n",
        "# Test Phase transformations\n",
        "test_transforms = transforms.Compose([\n",
        "\n",
        "                                       transforms.ToTensor(),\n",
        "                                       transforms.Normalize((0.4914, 0.4822, 0.4465), (0.2023, 0.1994, 0.2010))\n",
        "                                       ])\n"
      ]
    },
    {
      "cell_type": "code",
      "source": [
        "train = datasets.CIFAR10(root='./data', train=True,\n",
        "                                        download=True, transform=train_transforms)\n",
        "test = datasets.CIFAR10(root='./data', train=False,\n",
        "                                       download=True, transform=test_transforms)"
      ],
      "metadata": {
        "colab": {
          "base_uri": "https://localhost:8080/"
        },
        "id": "9-wIx7Ac_cjn",
        "outputId": "48bccbb6-507c-4934-a4d7-8e31a06b1141"
      },
      "execution_count": 10,
      "outputs": [
        {
          "output_type": "stream",
          "name": "stdout",
          "text": [
            "Files already downloaded and verified\n",
            "Files already downloaded and verified\n"
          ]
        }
      ]
    },
    {
      "cell_type": "code",
      "source": [
        "SEED = 1\n",
        "\n",
        "# CUDA?\n",
        "cuda = torch.cuda.is_available()\n",
        "print(\"CUDA Available?\", cuda)\n",
        "\n",
        "# For reproducibility\n",
        "torch.manual_seed(SEED)\n",
        "\n",
        "if cuda:\n",
        "    torch.cuda.manual_seed(SEED)\n",
        "\n",
        "# dataloader arguments - something you'll fetch these from cmdprmt\n",
        "dataloader_args = dict(shuffle=True, batch_size=512, num_workers=4,\\\n",
        "                       pin_memory=True) if cuda else\\\n",
        "                      dict(shuffle=True, batch_size=64)\n",
        "\n",
        "# train dataloader\n",
        "train_loader = torch.utils.data.DataLoader(train, **dataloader_args)\n",
        "\n",
        "# test dataloader\n",
        "test_loader = torch.utils.data.DataLoader(test, **dataloader_args)"
      ],
      "metadata": {
        "colab": {
          "base_uri": "https://localhost:8080/"
        },
        "id": "l_U_PZ0a_gcu",
        "outputId": "4825dce3-87cf-4a04-efd2-cb86d7ba469e"
      },
      "execution_count": 11,
      "outputs": [
        {
          "output_type": "stream",
          "name": "stdout",
          "text": [
            "CUDA Available? True\n"
          ]
        },
        {
          "output_type": "stream",
          "name": "stderr",
          "text": [
            "/usr/local/lib/python3.10/dist-packages/torch/utils/data/dataloader.py:560: UserWarning: This DataLoader will create 4 worker processes in total. Our suggested max number of worker in current system is 2, which is smaller than what this DataLoader is going to create. Please be aware that excessive worker creation might get DataLoader running slow or even freeze, lower the worker number to avoid potential slowness/freeze if necessary.\n",
            "  warnings.warn(_create_warning_msg(\n"
          ]
        }
      ]
    },
    {
      "cell_type": "code",
      "source": [
        "import matplotlib.pyplot as plt\n",
        "import numpy as np\n",
        "\n",
        "# functions to show an image\n",
        "\n",
        "\n",
        "def imshow(img):\n",
        "    img = img / 2 + 0.5     # unnormalize\n",
        "    npimg = img.numpy()\n",
        "    plt.imshow(np.transpose(npimg, (1, 2, 0)))\n",
        "    plt.show()\n",
        "\n",
        "\n",
        "# get some random training images\n",
        "dataiter = iter(train_loader)\n",
        "images, labels = next(dataiter)\n",
        "classes = ('plane', 'car', 'bird', 'cat',\n",
        "           'deer', 'dog', 'frog', 'horse', 'ship', 'truck')\n",
        "\n",
        "import torchvision\n",
        "# show images\n",
        "imshow(torchvision.utils.make_grid(images[:4]))\n",
        "# print labels\n",
        "print(' '.join(f'{classes[labels[j]]:5s}' for j in range(4)))"
      ],
      "metadata": {
        "colab": {
          "base_uri": "https://localhost:8080/",
          "height": 228
        },
        "id": "2U6ft7Vr_mTm",
        "outputId": "168e0aa4-5311-458a-a436-da992005625d"
      },
      "execution_count": 12,
      "outputs": [
        {
          "output_type": "stream",
          "name": "stderr",
          "text": [
            "WARNING:matplotlib.image:Clipping input data to the valid range for imshow with RGB data ([0..1] for floats or [0..255] for integers).\n"
          ]
        },
        {
          "output_type": "display_data",
          "data": {
            "text/plain": [
              "<Figure size 640x480 with 1 Axes>"
            ],
            "image/png": "[encoded data removed]"
          },
          "metadata": {}
        },
        {
          "output_type": "stream",
          "name": "stdout",
          "text": [
            "ship  bird  cat   dog  \n"
          ]
        }
      ]
    },
    {
      "cell_type": "markdown",
      "source": [
        "## Import all the models"
      ],
      "metadata": {
        "id": "a10CdxdNklbb"
      }
    },
    {
      "cell_type": "code",
      "source": [
        "from model import (BatchNormNet,\\\n",
        "                   LayerNormNet,\\\n",
        "                   GroupNormNet)"
      ],
      "metadata": {
        "id": "QFAiEqvBkoiE"
      },
      "execution_count": 14,
      "outputs": []
    },
    {
      "cell_type": "code",
      "source": [
        "from tqdm import tqdm\n",
        "\n",
        "train_losses = []\n",
        "test_losses = []\n",
        "train_acc = []\n",
        "test_acc = []\n",
        "\n",
        "def train(model, device, train_loader, optimizer, epoch):\n",
        "  model.train()\n",
        "  pbar = tqdm(train_loader)\n",
        "  correct = 0\n",
        "  processed = 0\n",
        "  for batch_idx, (data, target) in enumerate(pbar):\n",
        "    # get samples\n",
        "    data, target = data.to(device), target.to(device)\n",
        "\n",
        "    # Init\n",
        "    optimizer.zero_grad()\n",
        "    # In PyTorch, we need to set the gradients to zero before starting to do backpropragation because PyTorch accumulates the gradients on subsequent backward passes.\n",
        "    # Because of this, when you start your training loop, ideally you should zero out the gradients so that you do the parameter update correctly.\n",
        "\n",
        "    # Predict\n",
        "    y_pred = model(data)\n",
        "\n",
        "    # Calculate loss\n",
        "    loss = F.nll_loss(y_pred, target)\n",
        "    train_losses.append(loss)\n",
        "\n",
        "    # Backpropagation\n",
        "    loss.backward()\n",
        "    optimizer.step()\n",
        "\n",
        "    # Update pbar-tqdm\n",
        "\n",
        "    pred = y_pred.argmax(dim=1, keepdim=True)  # get the index of the max log-probability\n",
        "    correct += pred.eq(target.view_as(pred)).sum().item()\n",
        "    processed += len(data)\n",
        "\n",
        "    pbar.set_description(desc= f'Loss={loss.item()} Batch_id={batch_idx} Accuracy={100*correct/processed:0.2f}')\n",
        "    train_acc.append(100*correct/processed)\n",
        "\n",
        "def test(model, device, test_loader):\n",
        "    model.eval()\n",
        "    test_loss = 0\n",
        "    correct = 0\n",
        "    with torch.no_grad():\n",
        "        for data, target in test_loader:\n",
        "            data, target = data.to(device), target.to(device)\n",
        "            output = model(data)\n",
        "            test_loss += F.nll_loss(output, target, reduction='sum').item()  # sum up batch loss\n",
        "            pred = output.argmax(dim=1, keepdim=True)  # get the index of the max log-probability\n",
        "            correct += pred.eq(target.view_as(pred)).sum().item()\n",
        "\n",
        "    test_loss /= len(test_loader.dataset)\n",
        "    test_losses.append(test_loss)\n",
        "\n",
        "    print('\\nTest set: Average loss: {:.4f}, Accuracy: {}/{} ({:.2f}%)\\n'.format(\n",
        "        test_loss, correct, len(test_loader.dataset),\n",
        "        100. * correct / len(test_loader.dataset)))\n",
        "\n",
        "    test_acc.append(100. * correct / len(test_loader.dataset))"
      ],
      "metadata": {
        "id": "WZ4-wmNcPVSL"
      },
      "execution_count": 16,
      "outputs": []
    },
    {
      "cell_type": "markdown",
      "source": [
        "## Batch Normalization"
      ],
      "metadata": {
        "id": "VpE9cMspPN0Q"
      }
    },
    {
      "cell_type": "code",
      "source": [
        "\n",
        "\n",
        "use_cuda = torch.cuda.is_available()\n",
        "device = torch.device(\"cuda\" if use_cuda else \"cpu\")\n",
        "print(device)\n",
        "model = BatchNormNet().to(device)\n",
        "summary(model, input_size=(3, 32, 32))"
      ],
      "metadata": {
        "colab": {
          "base_uri": "https://localhost:8080/"
        },
        "id": "ZT69nJ39hwIu",
        "outputId": "6d26dacd-4222-4e95-d89a-979c44ac7aef"
      },
      "execution_count": 32,
      "outputs": [
        {
          "output_type": "stream",
          "name": "stdout",
          "text": [
            "cuda\n",
            "----------------------------------------------------------------\n",
            "        Layer (type)               Output Shape         Param #\n",
            "================================================================\n",
            "            Conv2d-1           [-1, 24, 32, 32]             648\n",
            "              ReLU-2           [-1, 24, 32, 32]               0\n",
            "       BatchNorm2d-3           [-1, 24, 32, 32]              48\n",
            "           Dropout-4           [-1, 24, 32, 32]               0\n",
            "            Conv2d-5           [-1, 48, 32, 32]          10,368\n",
            "              ReLU-6           [-1, 48, 32, 32]               0\n",
            "       BatchNorm2d-7           [-1, 48, 32, 32]              96\n",
            "           Dropout-8           [-1, 48, 32, 32]               0\n",
            "            Conv2d-9           [-1, 12, 32, 32]             576\n",
            "        MaxPool2d-10           [-1, 12, 16, 16]               0\n",
            "           Conv2d-11           [-1, 24, 16, 16]           2,592\n",
            "             ReLU-12           [-1, 24, 16, 16]               0\n",
            "      BatchNorm2d-13           [-1, 24, 16, 16]              48\n",
            "           Conv2d-14           [-1, 24, 16, 16]           5,184\n",
            "             ReLU-15           [-1, 24, 16, 16]               0\n",
            "      BatchNorm2d-16           [-1, 24, 16, 16]              48\n",
            "           Conv2d-17           [-1, 48, 16, 16]          10,368\n",
            "             ReLU-18           [-1, 48, 16, 16]               0\n",
            "      BatchNorm2d-19           [-1, 48, 16, 16]              96\n",
            "           Conv2d-20           [-1, 12, 16, 16]             576\n",
            "        MaxPool2d-21             [-1, 12, 8, 8]               0\n",
            "           Conv2d-22             [-1, 24, 8, 8]           2,592\n",
            "             ReLU-23             [-1, 24, 8, 8]               0\n",
            "      BatchNorm2d-24             [-1, 24, 8, 8]              48\n",
            "           Conv2d-25             [-1, 24, 8, 8]           5,184\n",
            "             ReLU-26             [-1, 24, 8, 8]               0\n",
            "      BatchNorm2d-27             [-1, 24, 8, 8]              48\n",
            "           Conv2d-28             [-1, 48, 8, 8]          10,368\n",
            "             ReLU-29             [-1, 48, 8, 8]               0\n",
            "      BatchNorm2d-30             [-1, 48, 8, 8]              96\n",
            "        AvgPool2d-31             [-1, 48, 1, 1]               0\n",
            "           Conv2d-32             [-1, 10, 1, 1]             480\n",
            "================================================================\n",
            "Total params: 49,464\n",
            "Trainable params: 49,464\n",
            "Non-trainable params: 0\n",
            "----------------------------------------------------------------\n",
            "Input size (MB): 0.01\n",
            "Forward/backward pass size (MB): 3.10\n",
            "Params size (MB): 0.19\n",
            "Estimated Total Size (MB): 3.30\n",
            "----------------------------------------------------------------\n"
          ]
        }
      ]
    },
    {
      "cell_type": "code",
      "source": [
        "from torch.optim.lr_scheduler import StepLR\n",
        "\n",
        "model =  BatchNormNet().to(device)\n",
        "optimizer = optim.SGD(model.parameters(), lr=0.01, momentum=0.9)\n",
        "# scheduler = StepLR(optimizer, step_size=6, gamma=0.1)\n",
        "\n",
        "\n",
        "EPOCHS = 20\n",
        "for epoch in range(EPOCHS):\n",
        "    print(\"EPOCH:\", epoch)\n",
        "    train(model, device, train_loader, optimizer, epoch)\n",
        "    # scheduler.step()\n",
        "    test(model, device, test_loader)"
      ],
      "metadata": {
        "colab": {
          "base_uri": "https://localhost:8080/"
        },
        "id": "z3LhvYF5uXCh",
        "outputId": "227be3e6-4ab4-4910-8bf4-519335e5ab9b"
      },
      "execution_count": 33,
      "outputs": [
        {
          "output_type": "stream",
          "name": "stdout",
          "text": [
            "EPOCH: 0\n"
          ]
        },
        {
          "output_type": "stream",
          "name": "stderr",
          "text": [
            "Loss=1.5347362756729126 Batch_id=97 Accuracy=31.69: 100%|██████████| 98/98 [00:21<00:00,  4.65it/s]\n"
          ]
        },
        {
          "output_type": "stream",
          "name": "stdout",
          "text": [
            "\n",
            "Test set: Average loss: 1.7330, Accuracy: 3496/10000 (34.96%)\n",
            "\n",
            "EPOCH: 1\n"
          ]
        },
        {
          "output_type": "stream",
          "name": "stderr",
          "text": [
            "Loss=1.3481476306915283 Batch_id=97 Accuracy=47.27: 100%|██████████| 98/98 [00:17<00:00,  5.49it/s]\n"
          ]
        },
        {
          "output_type": "stream",
          "name": "stdout",
          "text": [
            "\n",
            "Test set: Average loss: 1.4062, Accuracy: 4815/10000 (48.15%)\n",
            "\n",
            "EPOCH: 2\n"
          ]
        },
        {
          "output_type": "stream",
          "name": "stderr",
          "text": [
            "Loss=1.228759527206421 Batch_id=97 Accuracy=56.08: 100%|██████████| 98/98 [00:16<00:00,  5.98it/s]\n"
          ]
        },
        {
          "output_type": "stream",
          "name": "stdout",
          "text": [
            "\n",
            "Test set: Average loss: 1.1991, Accuracy: 5607/10000 (56.07%)\n",
            "\n",
            "EPOCH: 3\n"
          ]
        },
        {
          "output_type": "stream",
          "name": "stderr",
          "text": [
            "Loss=1.0651073455810547 Batch_id=97 Accuracy=60.95: 100%|██████████| 98/98 [00:15<00:00,  6.17it/s]\n"
          ]
        },
        {
          "output_type": "stream",
          "name": "stdout",
          "text": [
            "\n",
            "Test set: Average loss: 1.1239, Accuracy: 5872/10000 (58.72%)\n",
            "\n",
            "EPOCH: 4\n"
          ]
        },
        {
          "output_type": "stream",
          "name": "stderr",
          "text": [
            "Loss=1.0624046325683594 Batch_id=97 Accuracy=64.24: 100%|██████████| 98/98 [00:17<00:00,  5.58it/s]\n"
          ]
        },
        {
          "output_type": "stream",
          "name": "stdout",
          "text": [
            "\n",
            "Test set: Average loss: 1.0346, Accuracy: 6264/10000 (62.64%)\n",
            "\n",
            "EPOCH: 5\n"
          ]
        },
        {
          "output_type": "stream",
          "name": "stderr",
          "text": [
            "Loss=0.9380862712860107 Batch_id=97 Accuracy=66.37: 100%|██████████| 98/98 [00:16<00:00,  5.84it/s]\n"
          ]
        },
        {
          "output_type": "stream",
          "name": "stdout",
          "text": [
            "\n",
            "Test set: Average loss: 1.0495, Accuracy: 6168/10000 (61.68%)\n",
            "\n",
            "EPOCH: 6\n"
          ]
        },
        {
          "output_type": "stream",
          "name": "stderr",
          "text": [
            "Loss=0.8493394255638123 Batch_id=97 Accuracy=68.72: 100%|██████████| 98/98 [00:16<00:00,  6.08it/s]\n"
          ]
        },
        {
          "output_type": "stream",
          "name": "stdout",
          "text": [
            "\n",
            "Test set: Average loss: 0.9503, Accuracy: 6532/10000 (65.32%)\n",
            "\n",
            "EPOCH: 7\n"
          ]
        },
        {
          "output_type": "stream",
          "name": "stderr",
          "text": [
            "Loss=0.8634822368621826 Batch_id=97 Accuracy=69.82: 100%|██████████| 98/98 [00:18<00:00,  5.40it/s]\n"
          ]
        },
        {
          "output_type": "stream",
          "name": "stdout",
          "text": [
            "\n",
            "Test set: Average loss: 0.9179, Accuracy: 6725/10000 (67.25%)\n",
            "\n",
            "EPOCH: 8\n"
          ]
        },
        {
          "output_type": "stream",
          "name": "stderr",
          "text": [
            "Loss=0.8628796935081482 Batch_id=97 Accuracy=71.10: 100%|██████████| 98/98 [00:15<00:00,  6.19it/s]\n"
          ]
        },
        {
          "output_type": "stream",
          "name": "stdout",
          "text": [
            "\n",
            "Test set: Average loss: 0.9118, Accuracy: 6767/10000 (67.67%)\n",
            "\n",
            "EPOCH: 9\n"
          ]
        },
        {
          "output_type": "stream",
          "name": "stderr",
          "text": [
            "Loss=0.7999456524848938 Batch_id=97 Accuracy=72.41: 100%|██████████| 98/98 [00:16<00:00,  5.92it/s]\n"
          ]
        },
        {
          "output_type": "stream",
          "name": "stdout",
          "text": [
            "\n",
            "Test set: Average loss: 0.8849, Accuracy: 6855/10000 (68.55%)\n",
            "\n",
            "EPOCH: 10\n"
          ]
        },
        {
          "output_type": "stream",
          "name": "stderr",
          "text": [
            "Loss=0.7828627824783325 Batch_id=97 Accuracy=73.82: 100%|██████████| 98/98 [00:16<00:00,  6.08it/s]\n"
          ]
        },
        {
          "output_type": "stream",
          "name": "stdout",
          "text": [
            "\n",
            "Test set: Average loss: 0.9343, Accuracy: 6718/10000 (67.18%)\n",
            "\n",
            "EPOCH: 11\n"
          ]
        },
        {
          "output_type": "stream",
          "name": "stderr",
          "text": [
            "Loss=0.7866171598434448 Batch_id=97 Accuracy=74.69: 100%|██████████| 98/98 [00:16<00:00,  6.05it/s]\n"
          ]
        },
        {
          "output_type": "stream",
          "name": "stdout",
          "text": [
            "\n",
            "Test set: Average loss: 0.8343, Accuracy: 7038/10000 (70.38%)\n",
            "\n",
            "EPOCH: 12\n"
          ]
        },
        {
          "output_type": "stream",
          "name": "stderr",
          "text": [
            "Loss=0.6710302233695984 Batch_id=97 Accuracy=75.60: 100%|██████████| 98/98 [00:16<00:00,  5.82it/s]\n"
          ]
        },
        {
          "output_type": "stream",
          "name": "stdout",
          "text": [
            "\n",
            "Test set: Average loss: 0.8236, Accuracy: 7142/10000 (71.42%)\n",
            "\n",
            "EPOCH: 13\n"
          ]
        },
        {
          "output_type": "stream",
          "name": "stderr",
          "text": [
            "Loss=0.6912097930908203 Batch_id=97 Accuracy=76.49: 100%|██████████| 98/98 [00:16<00:00,  5.86it/s]\n"
          ]
        },
        {
          "output_type": "stream",
          "name": "stdout",
          "text": [
            "\n",
            "Test set: Average loss: 0.7998, Accuracy: 7160/10000 (71.60%)\n",
            "\n",
            "EPOCH: 14\n"
          ]
        },
        {
          "output_type": "stream",
          "name": "stderr",
          "text": [
            "Loss=0.5559909343719482 Batch_id=97 Accuracy=77.02: 100%|██████████| 98/98 [00:17<00:00,  5.46it/s]\n"
          ]
        },
        {
          "output_type": "stream",
          "name": "stdout",
          "text": [
            "\n",
            "Test set: Average loss: 0.7609, Accuracy: 7294/10000 (72.94%)\n",
            "\n",
            "EPOCH: 15\n"
          ]
        },
        {
          "output_type": "stream",
          "name": "stderr",
          "text": [
            "Loss=0.6252735257148743 Batch_id=97 Accuracy=77.76: 100%|██████████| 98/98 [00:23<00:00,  4.15it/s]\n"
          ]
        },
        {
          "output_type": "stream",
          "name": "stdout",
          "text": [
            "\n",
            "Test set: Average loss: 0.7807, Accuracy: 7275/10000 (72.75%)\n",
            "\n",
            "EPOCH: 16\n"
          ]
        },
        {
          "output_type": "stream",
          "name": "stderr",
          "text": [
            "Loss=0.630427360534668 Batch_id=97 Accuracy=78.25: 100%|██████████| 98/98 [00:17<00:00,  5.50it/s]\n"
          ]
        },
        {
          "output_type": "stream",
          "name": "stdout",
          "text": [
            "\n",
            "Test set: Average loss: 0.7409, Accuracy: 7395/10000 (73.95%)\n",
            "\n",
            "EPOCH: 17\n"
          ]
        },
        {
          "output_type": "stream",
          "name": "stderr",
          "text": [
            "Loss=0.5808922052383423 Batch_id=97 Accuracy=79.00: 100%|██████████| 98/98 [00:16<00:00,  5.90it/s]\n"
          ]
        },
        {
          "output_type": "stream",
          "name": "stdout",
          "text": [
            "\n",
            "Test set: Average loss: 0.7661, Accuracy: 7331/10000 (73.31%)\n",
            "\n",
            "EPOCH: 18\n"
          ]
        },
        {
          "output_type": "stream",
          "name": "stderr",
          "text": [
            "Loss=0.5684714913368225 Batch_id=97 Accuracy=79.41: 100%|██████████| 98/98 [00:17<00:00,  5.66it/s]\n"
          ]
        },
        {
          "output_type": "stream",
          "name": "stdout",
          "text": [
            "\n",
            "Test set: Average loss: 0.7669, Accuracy: 7294/10000 (72.94%)\n",
            "\n",
            "EPOCH: 19\n"
          ]
        },
        {
          "output_type": "stream",
          "name": "stderr",
          "text": [
            "Loss=0.48368221521377563 Batch_id=97 Accuracy=80.09: 100%|██████████| 98/98 [00:16<00:00,  5.80it/s]\n"
          ]
        },
        {
          "output_type": "stream",
          "name": "stdout",
          "text": [
            "\n",
            "Test set: Average loss: 0.7187, Accuracy: 7470/10000 (74.70%)\n",
            "\n"
          ]
        }
      ]
    },
    {
      "cell_type": "markdown",
      "source": [
        "## Layer Normalization"
      ],
      "metadata": {
        "id": "w4RcuHPxPZ2u"
      }
    },
    {
      "cell_type": "code",
      "source": [
        "use_cuda = torch.cuda.is_available()\n",
        "device = torch.device(\"cuda\" if use_cuda else \"cpu\")\n",
        "print(device)\n",
        "model = LayerNormNet().to(device)\n",
        "summary(model, input_size=(3, 32, 32))"
      ],
      "metadata": {
        "colab": {
          "base_uri": "https://localhost:8080/"
        },
        "id": "4E_apde90BsS",
        "outputId": "32907f7d-0228-475a-b577-03e71d0c232e"
      },
      "execution_count": 34,
      "outputs": [
        {
          "output_type": "stream",
          "name": "stdout",
          "text": [
            "cuda\n",
            "----------------------------------------------------------------\n",
            "        Layer (type)               Output Shape         Param #\n",
            "================================================================\n",
            "            Conv2d-1           [-1, 24, 32, 32]             648\n",
            "              ReLU-2           [-1, 24, 32, 32]               0\n",
            "         LayerNorm-3           [-1, 24, 32, 32]          49,152\n",
            "           Dropout-4           [-1, 24, 32, 32]               0\n",
            "            Conv2d-5           [-1, 48, 32, 32]          10,368\n",
            "              ReLU-6           [-1, 48, 32, 32]               0\n",
            "         LayerNorm-7           [-1, 48, 32, 32]          98,304\n",
            "           Dropout-8           [-1, 48, 32, 32]               0\n",
            "            Conv2d-9           [-1, 12, 32, 32]             576\n",
            "        MaxPool2d-10           [-1, 12, 16, 16]               0\n",
            "           Conv2d-11           [-1, 24, 16, 16]           2,592\n",
            "             ReLU-12           [-1, 24, 16, 16]               0\n",
            "        LayerNorm-13           [-1, 24, 16, 16]          12,288\n",
            "           Conv2d-14           [-1, 24, 16, 16]           5,184\n",
            "             ReLU-15           [-1, 24, 16, 16]               0\n",
            "        LayerNorm-16           [-1, 24, 16, 16]          12,288\n",
            "           Conv2d-17           [-1, 48, 16, 16]          10,368\n",
            "             ReLU-18           [-1, 48, 16, 16]               0\n",
            "        LayerNorm-19           [-1, 48, 16, 16]          24,576\n",
            "           Conv2d-20           [-1, 12, 16, 16]             576\n",
            "        MaxPool2d-21             [-1, 12, 8, 8]               0\n",
            "           Conv2d-22             [-1, 24, 8, 8]           2,592\n",
            "             ReLU-23             [-1, 24, 8, 8]               0\n",
            "        LayerNorm-24             [-1, 24, 8, 8]           3,072\n",
            "           Conv2d-25             [-1, 24, 8, 8]           5,184\n",
            "             ReLU-26             [-1, 24, 8, 8]               0\n",
            "        LayerNorm-27             [-1, 24, 8, 8]           3,072\n",
            "           Conv2d-28             [-1, 48, 8, 8]          10,368\n",
            "             ReLU-29             [-1, 48, 8, 8]               0\n",
            "        LayerNorm-30             [-1, 48, 8, 8]           6,144\n",
            "        AvgPool2d-31             [-1, 48, 1, 1]               0\n",
            "           Conv2d-32             [-1, 10, 1, 1]             480\n",
            "================================================================\n",
            "Total params: 257,832\n",
            "Trainable params: 257,832\n",
            "Non-trainable params: 0\n",
            "----------------------------------------------------------------\n",
            "Input size (MB): 0.01\n",
            "Forward/backward pass size (MB): 3.10\n",
            "Params size (MB): 0.98\n",
            "Estimated Total Size (MB): 4.10\n",
            "----------------------------------------------------------------\n"
          ]
        }
      ]
    },
    {
      "cell_type": "code",
      "source": [
        "model =  LayerNormNet().to(device)\n",
        "optimizer = optim.SGD(model.parameters(), lr=0.01, momentum=0.9)\n",
        "# scheduler = StepLR(optimizer, step_size=6, gamma=0.1)\n",
        "\n",
        "\n",
        "EPOCHS = 20\n",
        "for epoch in range(EPOCHS):\n",
        "    print(\"EPOCH:\", epoch)\n",
        "    train(model, device, train_loader, optimizer, epoch)\n",
        "    # scheduler.step()\n",
        "    test(model, device, test_loader)"
      ],
      "metadata": {
        "colab": {
          "base_uri": "https://localhost:8080/"
        },
        "id": "diOosHmT0E1Z",
        "outputId": "98f37f51-ed16-4e39-b132-1d2557f62e1a"
      },
      "execution_count": 35,
      "outputs": [
        {
          "output_type": "stream",
          "name": "stdout",
          "text": [
            "EPOCH: 0\n"
          ]
        },
        {
          "output_type": "stream",
          "name": "stderr",
          "text": [
            "Loss=1.7470331192016602 Batch_id=97 Accuracy=27.39: 100%|██████████| 98/98 [00:18<00:00,  5.43it/s]\n"
          ]
        },
        {
          "output_type": "stream",
          "name": "stdout",
          "text": [
            "\n",
            "Test set: Average loss: 1.7027, Accuracy: 3806/10000 (38.06%)\n",
            "\n",
            "EPOCH: 1\n"
          ]
        },
        {
          "output_type": "stream",
          "name": "stderr",
          "text": [
            "Loss=1.3835378885269165 Batch_id=97 Accuracy=43.53: 100%|██████████| 98/98 [00:16<00:00,  5.89it/s]\n"
          ]
        },
        {
          "output_type": "stream",
          "name": "stdout",
          "text": [
            "\n",
            "Test set: Average loss: 1.3942, Accuracy: 4945/10000 (49.45%)\n",
            "\n",
            "EPOCH: 2\n"
          ]
        },
        {
          "output_type": "stream",
          "name": "stderr",
          "text": [
            "Loss=1.2381868362426758 Batch_id=97 Accuracy=51.50: 100%|██████████| 98/98 [00:18<00:00,  5.35it/s]\n"
          ]
        },
        {
          "output_type": "stream",
          "name": "stdout",
          "text": [
            "\n",
            "Test set: Average loss: 1.2511, Accuracy: 5444/10000 (54.44%)\n",
            "\n",
            "EPOCH: 3\n"
          ]
        },
        {
          "output_type": "stream",
          "name": "stderr",
          "text": [
            "Loss=1.2640169858932495 Batch_id=97 Accuracy=56.76: 100%|██████████| 98/98 [00:16<00:00,  5.84it/s]\n"
          ]
        },
        {
          "output_type": "stream",
          "name": "stdout",
          "text": [
            "\n",
            "Test set: Average loss: 1.1449, Accuracy: 5849/10000 (58.49%)\n",
            "\n",
            "EPOCH: 4\n"
          ]
        },
        {
          "output_type": "stream",
          "name": "stderr",
          "text": [
            "Loss=1.014312744140625 Batch_id=97 Accuracy=60.81: 100%|██████████| 98/98 [00:19<00:00,  5.13it/s]\n"
          ]
        },
        {
          "output_type": "stream",
          "name": "stdout",
          "text": [
            "\n",
            "Test set: Average loss: 1.1064, Accuracy: 5996/10000 (59.96%)\n",
            "\n",
            "EPOCH: 5\n"
          ]
        },
        {
          "output_type": "stream",
          "name": "stderr",
          "text": [
            "Loss=1.1334435939788818 Batch_id=97 Accuracy=63.34: 100%|██████████| 98/98 [00:16<00:00,  5.82it/s]\n"
          ]
        },
        {
          "output_type": "stream",
          "name": "stdout",
          "text": [
            "\n",
            "Test set: Average loss: 1.0135, Accuracy: 6394/10000 (63.94%)\n",
            "\n",
            "EPOCH: 6\n"
          ]
        },
        {
          "output_type": "stream",
          "name": "stderr",
          "text": [
            "Loss=0.8544698357582092 Batch_id=97 Accuracy=65.85: 100%|██████████| 98/98 [00:17<00:00,  5.52it/s]\n"
          ]
        },
        {
          "output_type": "stream",
          "name": "stdout",
          "text": [
            "\n",
            "Test set: Average loss: 0.9479, Accuracy: 6615/10000 (66.15%)\n",
            "\n",
            "EPOCH: 7\n"
          ]
        },
        {
          "output_type": "stream",
          "name": "stderr",
          "text": [
            "Loss=0.831525981426239 Batch_id=97 Accuracy=67.83: 100%|██████████| 98/98 [00:16<00:00,  5.87it/s]\n"
          ]
        },
        {
          "output_type": "stream",
          "name": "stdout",
          "text": [
            "\n",
            "Test set: Average loss: 0.9417, Accuracy: 6631/10000 (66.31%)\n",
            "\n",
            "EPOCH: 8\n"
          ]
        },
        {
          "output_type": "stream",
          "name": "stderr",
          "text": [
            "Loss=0.8260941505432129 Batch_id=97 Accuracy=69.36: 100%|██████████| 98/98 [00:18<00:00,  5.34it/s]\n"
          ]
        },
        {
          "output_type": "stream",
          "name": "stdout",
          "text": [
            "\n",
            "Test set: Average loss: 0.9249, Accuracy: 6681/10000 (66.81%)\n",
            "\n",
            "EPOCH: 9\n"
          ]
        },
        {
          "output_type": "stream",
          "name": "stderr",
          "text": [
            "Loss=0.8433015942573547 Batch_id=97 Accuracy=70.57: 100%|██████████| 98/98 [00:16<00:00,  5.81it/s]\n"
          ]
        },
        {
          "output_type": "stream",
          "name": "stdout",
          "text": [
            "\n",
            "Test set: Average loss: 0.8836, Accuracy: 6868/10000 (68.68%)\n",
            "\n",
            "EPOCH: 10\n"
          ]
        },
        {
          "output_type": "stream",
          "name": "stderr",
          "text": [
            "Loss=0.8014921545982361 Batch_id=97 Accuracy=71.98: 100%|██████████| 98/98 [00:17<00:00,  5.60it/s]\n"
          ]
        },
        {
          "output_type": "stream",
          "name": "stdout",
          "text": [
            "\n",
            "Test set: Average loss: 0.8404, Accuracy: 7013/10000 (70.13%)\n",
            "\n",
            "EPOCH: 11\n"
          ]
        },
        {
          "output_type": "stream",
          "name": "stderr",
          "text": [
            "Loss=0.6956847906112671 Batch_id=97 Accuracy=72.62: 100%|██████████| 98/98 [00:16<00:00,  5.82it/s]\n"
          ]
        },
        {
          "output_type": "stream",
          "name": "stdout",
          "text": [
            "\n",
            "Test set: Average loss: 0.8364, Accuracy: 7077/10000 (70.77%)\n",
            "\n",
            "EPOCH: 12\n"
          ]
        },
        {
          "output_type": "stream",
          "name": "stderr",
          "text": [
            "Loss=0.7349532842636108 Batch_id=97 Accuracy=74.12: 100%|██████████| 98/98 [00:16<00:00,  5.80it/s]\n"
          ]
        },
        {
          "output_type": "stream",
          "name": "stdout",
          "text": [
            "\n",
            "Test set: Average loss: 0.7622, Accuracy: 7296/10000 (72.96%)\n",
            "\n",
            "EPOCH: 13\n"
          ]
        },
        {
          "output_type": "stream",
          "name": "stderr",
          "text": [
            "Loss=0.6864433288574219 Batch_id=97 Accuracy=75.02: 100%|██████████| 98/98 [00:16<00:00,  5.96it/s]\n"
          ]
        },
        {
          "output_type": "stream",
          "name": "stdout",
          "text": [
            "\n",
            "Test set: Average loss: 0.7683, Accuracy: 7332/10000 (73.32%)\n",
            "\n",
            "EPOCH: 14\n"
          ]
        },
        {
          "output_type": "stream",
          "name": "stderr",
          "text": [
            "Loss=0.6201745271682739 Batch_id=97 Accuracy=75.77: 100%|██████████| 98/98 [00:17<00:00,  5.76it/s]\n"
          ]
        },
        {
          "output_type": "stream",
          "name": "stdout",
          "text": [
            "\n",
            "Test set: Average loss: 0.7682, Accuracy: 7318/10000 (73.18%)\n",
            "\n",
            "EPOCH: 15\n"
          ]
        },
        {
          "output_type": "stream",
          "name": "stderr",
          "text": [
            "Loss=0.6409803032875061 Batch_id=97 Accuracy=76.80: 100%|██████████| 98/98 [00:16<00:00,  5.77it/s]\n"
          ]
        },
        {
          "output_type": "stream",
          "name": "stdout",
          "text": [
            "\n",
            "Test set: Average loss: 0.7453, Accuracy: 7385/10000 (73.85%)\n",
            "\n",
            "EPOCH: 16\n"
          ]
        },
        {
          "output_type": "stream",
          "name": "stderr",
          "text": [
            "Loss=0.755397379398346 Batch_id=97 Accuracy=77.21: 100%|██████████| 98/98 [00:16<00:00,  6.01it/s]\n"
          ]
        },
        {
          "output_type": "stream",
          "name": "stdout",
          "text": [
            "\n",
            "Test set: Average loss: 0.7467, Accuracy: 7402/10000 (74.02%)\n",
            "\n",
            "EPOCH: 17\n"
          ]
        },
        {
          "output_type": "stream",
          "name": "stderr",
          "text": [
            "Loss=0.63359135389328 Batch_id=97 Accuracy=77.86: 100%|██████████| 98/98 [00:16<00:00,  5.83it/s]\n"
          ]
        },
        {
          "output_type": "stream",
          "name": "stdout",
          "text": [
            "\n",
            "Test set: Average loss: 0.7361, Accuracy: 7398/10000 (73.98%)\n",
            "\n",
            "EPOCH: 18\n"
          ]
        },
        {
          "output_type": "stream",
          "name": "stderr",
          "text": [
            "Loss=0.5289456844329834 Batch_id=97 Accuracy=78.34: 100%|██████████| 98/98 [00:16<00:00,  6.03it/s]\n"
          ]
        },
        {
          "output_type": "stream",
          "name": "stdout",
          "text": [
            "\n",
            "Test set: Average loss: 0.7359, Accuracy: 7449/10000 (74.49%)\n",
            "\n",
            "EPOCH: 19\n"
          ]
        },
        {
          "output_type": "stream",
          "name": "stderr",
          "text": [
            "Loss=0.6380348801612854 Batch_id=97 Accuracy=78.98: 100%|██████████| 98/98 [00:16<00:00,  5.84it/s]\n"
          ]
        },
        {
          "output_type": "stream",
          "name": "stdout",
          "text": [
            "\n",
            "Test set: Average loss: 0.7268, Accuracy: 7467/10000 (74.67%)\n",
            "\n"
          ]
        }
      ]
    },
    {
      "cell_type": "markdown",
      "source": [
        "## Group Normalization"
      ],
      "metadata": {
        "id": "_1C3GhIYPeMG"
      }
    },
    {
      "cell_type": "code",
      "source": [
        "\n",
        "use_cuda = torch.cuda.is_available()\n",
        "device = torch.device(\"cuda\" if use_cuda else \"cpu\")\n",
        "print(device)\n",
        "model = GroupNormNet().to(device)\n",
        "summary(model, input_size=(3, 32, 32))"
      ],
      "metadata": {
        "colab": {
          "base_uri": "https://localhost:8080/"
        },
        "id": "nMIhqJFa0JxM",
        "outputId": "06a34b0f-6d4c-47cb-9cfb-3cff6f48d641"
      },
      "execution_count": 17,
      "outputs": [
        {
          "output_type": "stream",
          "name": "stdout",
          "text": [
            "cuda\n",
            "----------------------------------------------------------------\n",
            "        Layer (type)               Output Shape         Param #\n",
            "================================================================\n",
            "            Conv2d-1           [-1, 24, 32, 32]             648\n",
            "              ReLU-2           [-1, 24, 32, 32]               0\n",
            "         GroupNorm-3           [-1, 24, 32, 32]              48\n",
            "           Dropout-4           [-1, 24, 32, 32]               0\n",
            "            Conv2d-5           [-1, 48, 32, 32]          10,368\n",
            "              ReLU-6           [-1, 48, 32, 32]               0\n",
            "         GroupNorm-7           [-1, 48, 32, 32]              96\n",
            "           Dropout-8           [-1, 48, 32, 32]               0\n",
            "            Conv2d-9           [-1, 12, 32, 32]             576\n",
            "        MaxPool2d-10           [-1, 12, 16, 16]               0\n",
            "           Conv2d-11           [-1, 24, 16, 16]           2,592\n",
            "             ReLU-12           [-1, 24, 16, 16]               0\n",
            "        GroupNorm-13           [-1, 24, 16, 16]              48\n",
            "           Conv2d-14           [-1, 24, 16, 16]           5,184\n",
            "             ReLU-15           [-1, 24, 16, 16]               0\n",
            "        GroupNorm-16           [-1, 24, 16, 16]              48\n",
            "           Conv2d-17           [-1, 48, 16, 16]          10,368\n",
            "             ReLU-18           [-1, 48, 16, 16]               0\n",
            "        GroupNorm-19           [-1, 48, 16, 16]              96\n",
            "           Conv2d-20           [-1, 12, 16, 16]             576\n",
            "        MaxPool2d-21             [-1, 12, 8, 8]               0\n",
            "           Conv2d-22             [-1, 24, 8, 8]           2,592\n",
            "             ReLU-23             [-1, 24, 8, 8]               0\n",
            "        GroupNorm-24             [-1, 24, 8, 8]              48\n",
            "           Conv2d-25             [-1, 24, 8, 8]           5,184\n",
            "             ReLU-26             [-1, 24, 8, 8]               0\n",
            "        GroupNorm-27             [-1, 24, 8, 8]              48\n",
            "           Conv2d-28             [-1, 48, 8, 8]          10,368\n",
            "             ReLU-29             [-1, 48, 8, 8]               0\n",
            "        GroupNorm-30             [-1, 48, 8, 8]              96\n",
            "        AvgPool2d-31             [-1, 48, 1, 1]               0\n",
            "           Conv2d-32             [-1, 10, 1, 1]             480\n",
            "================================================================\n",
            "Total params: 49,464\n",
            "Trainable params: 49,464\n",
            "Non-trainable params: 0\n",
            "----------------------------------------------------------------\n",
            "Input size (MB): 0.01\n",
            "Forward/backward pass size (MB): 3.10\n",
            "Params size (MB): 0.19\n",
            "Estimated Total Size (MB): 3.30\n",
            "----------------------------------------------------------------\n"
          ]
        }
      ]
    },
    {
      "cell_type": "code",
      "source": [
        "model =  GroupNormNet().to(device)\n",
        "optimizer = optim.SGD(model.parameters(), lr=0.01, momentum=0.9)\n",
        "# scheduler = StepLR(optimizer, step_size=6, gamma=0.1)\n",
        "\n",
        "\n",
        "EPOCHS = 20\n",
        "for epoch in range(EPOCHS):\n",
        "    print(\"EPOCH:\", epoch)\n",
        "    train(model, device, train_loader, optimizer, epoch)\n",
        "    # scheduler.step()\n",
        "    test(model, device, test_loader)"
      ],
      "metadata": {
        "colab": {
          "base_uri": "https://localhost:8080/"
        },
        "id": "JHdDAUWhPFiS",
        "outputId": "8222ba26-0434-4584-a2fe-385b756b7649"
      },
      "execution_count": 18,
      "outputs": [
        {
          "output_type": "stream",
          "name": "stdout",
          "text": [
            "EPOCH: 0\n"
          ]
        },
        {
          "output_type": "stream",
          "name": "stderr",
          "text": [
            "Loss=1.6756054162979126 Batch_id=97 Accuracy=27.40: 100%|██████████| 98/98 [00:14<00:00,  6.76it/s]\n"
          ]
        },
        {
          "output_type": "stream",
          "name": "stdout",
          "text": [
            "\n",
            "Test set: Average loss: 1.7537, Accuracy: 3393/10000 (33.93%)\n",
            "\n",
            "EPOCH: 1\n"
          ]
        },
        {
          "output_type": "stream",
          "name": "stderr",
          "text": [
            "Loss=1.4416821002960205 Batch_id=97 Accuracy=41.95: 100%|██████████| 98/98 [00:18<00:00,  5.37it/s]\n"
          ]
        },
        {
          "output_type": "stream",
          "name": "stdout",
          "text": [
            "\n",
            "Test set: Average loss: 1.5021, Accuracy: 4531/10000 (45.31%)\n",
            "\n",
            "EPOCH: 2\n"
          ]
        },
        {
          "output_type": "stream",
          "name": "stderr",
          "text": [
            "Loss=1.2896897792816162 Batch_id=97 Accuracy=50.63: 100%|██████████| 98/98 [00:14<00:00,  6.59it/s]\n"
          ]
        },
        {
          "output_type": "stream",
          "name": "stdout",
          "text": [
            "\n",
            "Test set: Average loss: 1.2782, Accuracy: 5354/10000 (53.54%)\n",
            "\n",
            "EPOCH: 3\n"
          ]
        },
        {
          "output_type": "stream",
          "name": "stderr",
          "text": [
            "Loss=1.2577588558197021 Batch_id=97 Accuracy=55.95: 100%|██████████| 98/98 [00:15<00:00,  6.41it/s]\n"
          ]
        },
        {
          "output_type": "stream",
          "name": "stdout",
          "text": [
            "\n",
            "Test set: Average loss: 1.2322, Accuracy: 5501/10000 (55.01%)\n",
            "\n",
            "EPOCH: 4\n"
          ]
        },
        {
          "output_type": "stream",
          "name": "stderr",
          "text": [
            "Loss=1.067655324935913 Batch_id=97 Accuracy=59.54: 100%|██████████| 98/98 [00:14<00:00,  6.57it/s]\n"
          ]
        },
        {
          "output_type": "stream",
          "name": "stdout",
          "text": [
            "\n",
            "Test set: Average loss: 1.1307, Accuracy: 5897/10000 (58.97%)\n",
            "\n",
            "EPOCH: 5\n"
          ]
        },
        {
          "output_type": "stream",
          "name": "stderr",
          "text": [
            "Loss=1.0647469758987427 Batch_id=97 Accuracy=62.82: 100%|██████████| 98/98 [00:14<00:00,  6.60it/s]\n"
          ]
        },
        {
          "output_type": "stream",
          "name": "stdout",
          "text": [
            "\n",
            "Test set: Average loss: 1.0658, Accuracy: 6221/10000 (62.21%)\n",
            "\n",
            "EPOCH: 6\n"
          ]
        },
        {
          "output_type": "stream",
          "name": "stderr",
          "text": [
            "Loss=0.9569751024246216 Batch_id=97 Accuracy=65.57: 100%|██████████| 98/98 [00:15<00:00,  6.41it/s]\n"
          ]
        },
        {
          "output_type": "stream",
          "name": "stdout",
          "text": [
            "\n",
            "Test set: Average loss: 0.9702, Accuracy: 6579/10000 (65.79%)\n",
            "\n",
            "EPOCH: 7\n"
          ]
        },
        {
          "output_type": "stream",
          "name": "stderr",
          "text": [
            "Loss=0.8656907081604004 Batch_id=97 Accuracy=67.68: 100%|██████████| 98/98 [00:16<00:00,  6.00it/s]\n"
          ]
        },
        {
          "output_type": "stream",
          "name": "stdout",
          "text": [
            "\n",
            "Test set: Average loss: 0.9642, Accuracy: 6514/10000 (65.14%)\n",
            "\n",
            "EPOCH: 8\n"
          ]
        },
        {
          "output_type": "stream",
          "name": "stderr",
          "text": [
            "Loss=0.9111806750297546 Batch_id=97 Accuracy=69.42: 100%|██████████| 98/98 [00:14<00:00,  6.58it/s]\n"
          ]
        },
        {
          "output_type": "stream",
          "name": "stdout",
          "text": [
            "\n",
            "Test set: Average loss: 0.9740, Accuracy: 6441/10000 (64.41%)\n",
            "\n",
            "EPOCH: 9\n"
          ]
        },
        {
          "output_type": "stream",
          "name": "stderr",
          "text": [
            "Loss=0.7664791345596313 Batch_id=97 Accuracy=71.02: 100%|██████████| 98/98 [00:15<00:00,  6.52it/s]\n"
          ]
        },
        {
          "output_type": "stream",
          "name": "stdout",
          "text": [
            "\n",
            "Test set: Average loss: 0.8492, Accuracy: 7000/10000 (70.00%)\n",
            "\n",
            "EPOCH: 10\n"
          ]
        },
        {
          "output_type": "stream",
          "name": "stderr",
          "text": [
            "Loss=0.8714901804924011 Batch_id=97 Accuracy=72.16: 100%|██████████| 98/98 [00:15<00:00,  6.31it/s]\n"
          ]
        },
        {
          "output_type": "stream",
          "name": "stdout",
          "text": [
            "\n",
            "Test set: Average loss: 0.8733, Accuracy: 6974/10000 (69.74%)\n",
            "\n",
            "EPOCH: 11\n"
          ]
        },
        {
          "output_type": "stream",
          "name": "stderr",
          "text": [
            "Loss=0.8190380930900574 Batch_id=97 Accuracy=73.43: 100%|██████████| 98/98 [00:14<00:00,  6.55it/s]\n"
          ]
        },
        {
          "output_type": "stream",
          "name": "stdout",
          "text": [
            "\n",
            "Test set: Average loss: 0.8238, Accuracy: 7062/10000 (70.62%)\n",
            "\n",
            "EPOCH: 12\n"
          ]
        },
        {
          "output_type": "stream",
          "name": "stderr",
          "text": [
            "Loss=0.7588517069816589 Batch_id=97 Accuracy=73.95: 100%|██████████| 98/98 [00:14<00:00,  6.59it/s]\n"
          ]
        },
        {
          "output_type": "stream",
          "name": "stdout",
          "text": [
            "\n",
            "Test set: Average loss: 0.7925, Accuracy: 7194/10000 (71.94%)\n",
            "\n",
            "EPOCH: 13\n"
          ]
        },
        {
          "output_type": "stream",
          "name": "stderr",
          "text": [
            "Loss=0.7282997965812683 Batch_id=97 Accuracy=75.16: 100%|██████████| 98/98 [00:15<00:00,  6.39it/s]\n"
          ]
        },
        {
          "output_type": "stream",
          "name": "stdout",
          "text": [
            "\n",
            "Test set: Average loss: 0.7897, Accuracy: 7216/10000 (72.16%)\n",
            "\n",
            "EPOCH: 14\n"
          ]
        },
        {
          "output_type": "stream",
          "name": "stderr",
          "text": [
            "Loss=0.6515085101127625 Batch_id=97 Accuracy=75.97: 100%|██████████| 98/98 [00:15<00:00,  6.46it/s]\n"
          ]
        },
        {
          "output_type": "stream",
          "name": "stdout",
          "text": [
            "\n",
            "Test set: Average loss: 0.7524, Accuracy: 7369/10000 (73.69%)\n",
            "\n",
            "EPOCH: 15\n"
          ]
        },
        {
          "output_type": "stream",
          "name": "stderr",
          "text": [
            "Loss=0.6950403451919556 Batch_id=97 Accuracy=76.93: 100%|██████████| 98/98 [00:15<00:00,  6.52it/s]\n"
          ]
        },
        {
          "output_type": "stream",
          "name": "stdout",
          "text": [
            "\n",
            "Test set: Average loss: 0.7841, Accuracy: 7251/10000 (72.51%)\n",
            "\n",
            "EPOCH: 16\n"
          ]
        },
        {
          "output_type": "stream",
          "name": "stderr",
          "text": [
            "Loss=0.6780055165290833 Batch_id=97 Accuracy=77.24: 100%|██████████| 98/98 [00:14<00:00,  6.59it/s]\n"
          ]
        },
        {
          "output_type": "stream",
          "name": "stdout",
          "text": [
            "\n",
            "Test set: Average loss: 0.7334, Accuracy: 7432/10000 (74.32%)\n",
            "\n",
            "EPOCH: 17\n"
          ]
        },
        {
          "output_type": "stream",
          "name": "stderr",
          "text": [
            "Loss=0.5412017107009888 Batch_id=97 Accuracy=77.99: 100%|██████████| 98/98 [00:14<00:00,  6.55it/s]\n"
          ]
        },
        {
          "output_type": "stream",
          "name": "stdout",
          "text": [
            "\n",
            "Test set: Average loss: 0.7082, Accuracy: 7526/10000 (75.26%)\n",
            "\n",
            "EPOCH: 18\n"
          ]
        },
        {
          "output_type": "stream",
          "name": "stderr",
          "text": [
            "Loss=0.6315529346466064 Batch_id=97 Accuracy=78.85: 100%|██████████| 98/98 [00:16<00:00,  5.98it/s]\n"
          ]
        },
        {
          "output_type": "stream",
          "name": "stdout",
          "text": [
            "\n",
            "Test set: Average loss: 0.7270, Accuracy: 7462/10000 (74.62%)\n",
            "\n",
            "EPOCH: 19\n"
          ]
        },
        {
          "output_type": "stream",
          "name": "stderr",
          "text": [
            "Loss=0.5359470248222351 Batch_id=97 Accuracy=79.28: 100%|██████████| 98/98 [00:15<00:00,  6.53it/s]\n"
          ]
        },
        {
          "output_type": "stream",
          "name": "stdout",
          "text": [
            "\n",
            "Test set: Average loss: 0.7109, Accuracy: 7518/10000 (75.18%)\n",
            "\n"
          ]
        }
      ]
    }
  ],
  "metadata": {
    "colab": {
      "provenance": [],
      "gpuType": "T4"
    },
    "kernelspec": {
      "display_name": "Python 3",
      "name": "python3"
    },
    "language_info": {
      "name": "python"
    },
    "accelerator": "GPU"
  },
  "nbformat": 4,
  "nbformat_minor": 0
}